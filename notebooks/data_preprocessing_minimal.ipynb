{
 "cells": [
  {
   "cell_type": "code",
   "execution_count": 6,
   "id": "3f7909d4",
   "metadata": {},
   "outputs": [],
   "source": [
    "import pandas as pd\n",
    "\n",
    "# Load the CSV file\n",
    "df = pd.read_csv(\"../data/data.csv\")"
   ]
  },
  {
   "cell_type": "code",
   "execution_count": 7,
   "id": "f11ab67c",
   "metadata": {},
   "outputs": [
    {
     "name": "stdout",
     "output_type": "stream",
     "text": [
      "Dataset shape: (159571, 8)\n",
      "<class 'pandas.core.frame.DataFrame'>\n",
      "RangeIndex: 159571 entries, 0 to 159570\n",
      "Data columns (total 8 columns):\n",
      " #   Column         Non-Null Count   Dtype \n",
      "---  ------         --------------   ----- \n",
      " 0   id             159571 non-null  object\n",
      " 1   comment_text   159571 non-null  object\n",
      " 2   toxic          159571 non-null  int64 \n",
      " 3   severe_toxic   159571 non-null  int64 \n",
      " 4   obscene        159571 non-null  int64 \n",
      " 5   threat         159571 non-null  int64 \n",
      " 6   insult         159571 non-null  int64 \n",
      " 7   identity_hate  159571 non-null  int64 \n",
      "dtypes: int64(6), object(2)\n",
      "memory usage: 9.7+ MB\n"
     ]
    }
   ],
   "source": [
    "# Display basic info\n",
    "print(\"Dataset shape:\", df.shape)\n",
    "df.info(verbose=True)"
   ]
  },
  {
   "cell_type": "code",
   "execution_count": 8,
   "id": "a6e6966d",
   "metadata": {},
   "outputs": [
    {
     "data": {
      "text/html": [
       "<div>\n",
       "<style scoped>\n",
       "    .dataframe tbody tr th:only-of-type {\n",
       "        vertical-align: middle;\n",
       "    }\n",
       "\n",
       "    .dataframe tbody tr th {\n",
       "        vertical-align: top;\n",
       "    }\n",
       "\n",
       "    .dataframe thead th {\n",
       "        text-align: right;\n",
       "    }\n",
       "</style>\n",
       "<table border=\"1\" class=\"dataframe\">\n",
       "  <thead>\n",
       "    <tr style=\"text-align: right;\">\n",
       "      <th></th>\n",
       "      <th>id</th>\n",
       "      <th>comment_text</th>\n",
       "      <th>toxic</th>\n",
       "    </tr>\n",
       "  </thead>\n",
       "  <tbody>\n",
       "    <tr>\n",
       "      <th>0</th>\n",
       "      <td>0000997932d777bf</td>\n",
       "      <td>Explanation\\nWhy the edits made under my usern...</td>\n",
       "      <td>False</td>\n",
       "    </tr>\n",
       "    <tr>\n",
       "      <th>1</th>\n",
       "      <td>000103f0d9cfb60f</td>\n",
       "      <td>D'aww! He matches this background colour I'm s...</td>\n",
       "      <td>False</td>\n",
       "    </tr>\n",
       "    <tr>\n",
       "      <th>2</th>\n",
       "      <td>000113f07ec002fd</td>\n",
       "      <td>Hey man, I'm really not trying to edit war. It...</td>\n",
       "      <td>False</td>\n",
       "    </tr>\n",
       "    <tr>\n",
       "      <th>3</th>\n",
       "      <td>0001b41b1c6bb37e</td>\n",
       "      <td>\"\\nMore\\nI can't make any real suggestions on ...</td>\n",
       "      <td>False</td>\n",
       "    </tr>\n",
       "    <tr>\n",
       "      <th>4</th>\n",
       "      <td>0001d958c54c6e35</td>\n",
       "      <td>You, sir, are my hero. Any chance you remember...</td>\n",
       "      <td>False</td>\n",
       "    </tr>\n",
       "  </tbody>\n",
       "</table>\n",
       "</div>"
      ],
      "text/plain": [
       "                 id                                       comment_text  toxic\n",
       "0  0000997932d777bf  Explanation\\nWhy the edits made under my usern...  False\n",
       "1  000103f0d9cfb60f  D'aww! He matches this background colour I'm s...  False\n",
       "2  000113f07ec002fd  Hey man, I'm really not trying to edit war. It...  False\n",
       "3  0001b41b1c6bb37e  \"\\nMore\\nI can't make any real suggestions on ...  False\n",
       "4  0001d958c54c6e35  You, sir, are my hero. Any chance you remember...  False"
      ]
     },
     "execution_count": 8,
     "metadata": {},
     "output_type": "execute_result"
    }
   ],
   "source": [
    "df[\"toxic\"] = df.iloc[:, 2:8].sum(axis=1) > 0\n",
    "df.drop(df.columns[3:8], axis=1, inplace=True)\n",
    "df.head()"
   ]
  },
  {
   "cell_type": "code",
   "execution_count": 9,
   "id": "bb6ffd07",
   "metadata": {},
   "outputs": [],
   "source": [
    "def split_long_comments(df, max_len=1000, min_len_if_toxic=30):\n",
    "    new_rows = []\n",
    "\n",
    "    for idx, row in df.iterrows():\n",
    "        text = row['comment_text']\n",
    "        label = row['toxic']  # True or False\n",
    "\n",
    "        if len(text) <= max_len:\n",
    "            new_rows.append({'comment_text': text, 'toxic': label})\n",
    "        else:\n",
    "            for i in range(0, len(text), max_len):\n",
    "                chunk = text[i:i + max_len]\n",
    "\n",
    "                # ✅ Skip tiny chunks *only* if the original comment was toxic\n",
    "                if label and len(chunk) < min_len_if_toxic:\n",
    "                    continue\n",
    "\n",
    "                new_rows.append({'comment_text': chunk, 'toxic': label})\n",
    "\n",
    "    return pd.DataFrame(new_rows)"
   ]
  },
  {
   "cell_type": "code",
   "execution_count": 10,
   "id": "cb917792",
   "metadata": {},
   "outputs": [
    {
     "name": "stdout",
     "output_type": "stream",
     "text": [
      "Number of comments longer than 1000 characters: 13360\n"
     ]
    }
   ],
   "source": [
    "long_comments = df['comment_text'].apply(len) > 1000\n",
    "count = long_comments.sum()\n",
    "print(\"Number of comments longer than 1000 characters:\", count)\n",
    "df = split_long_comments(df)\n",
    "df = df.sample(frac=1, random_state=42).reset_index(drop=True)"
   ]
  },
  {
   "cell_type": "code",
   "execution_count": 11,
   "id": "7d1243c5",
   "metadata": {},
   "outputs": [
    {
     "name": "stdout",
     "output_type": "stream",
     "text": [
      "Duplicate comments: 505\n",
      "Duplicate comments: 2\n"
     ]
    }
   ],
   "source": [
    "print(\"Duplicate comments:\", df.duplicated(\"comment_text\").sum())\n",
    "df = df.drop_duplicates(subset=[\"comment_text\", \"toxic\"]).reset_index(drop=True)\n",
    "print(\"Duplicate comments:\", df.duplicated(\"comment_text\").sum())"
   ]
  },
  {
   "cell_type": "code",
   "execution_count": 12,
   "id": "d21cebae",
   "metadata": {},
   "outputs": [],
   "source": [
    "df = df[df['comment_text'].str.strip() != '']"
   ]
  },
  {
   "cell_type": "code",
   "execution_count": 13,
   "id": "1421e9e0",
   "metadata": {},
   "outputs": [],
   "source": [
    "from sklearn.model_selection import train_test_split\n",
    "\n",
    "# Step 1: train + temp (val + test)\n",
    "train_df, temp_df = train_test_split(\n",
    "    df, \n",
    "    test_size=0.3, \n",
    "    stratify=df['toxic'], \n",
    "    random_state=42\n",
    ")\n",
    "\n",
    "# Step 2: val + test from temp\n",
    "val_df, test_df = train_test_split(\n",
    "    temp_df, \n",
    "    test_size=0.5, \n",
    "    stratify=temp_df['toxic'], \n",
    "    random_state=42\n",
    ")\n"
   ]
  },
  {
   "cell_type": "code",
   "execution_count": 16,
   "id": "09af3f90",
   "metadata": {},
   "outputs": [],
   "source": [
    "train_df.to_csv(\"../data/data_2_0/train.csv\", index=False)\n",
    "val_df.to_csv(\"../data/data_2_0/val.csv\", index=False)\n",
    "test_df.to_csv(\"../data/data_2_0/test.csv\", index=False)"
   ]
  }
 ],
 "metadata": {
  "kernelspec": {
   "display_name": "venv",
   "language": "python",
   "name": "python3"
  },
  "language_info": {
   "codemirror_mode": {
    "name": "ipython",
    "version": 3
   },
   "file_extension": ".py",
   "mimetype": "text/x-python",
   "name": "python",
   "nbconvert_exporter": "python",
   "pygments_lexer": "ipython3",
   "version": "3.11.0"
  }
 },
 "nbformat": 4,
 "nbformat_minor": 5
}
