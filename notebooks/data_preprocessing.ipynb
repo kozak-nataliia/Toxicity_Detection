{
 "cells": [
  {
   "cell_type": "code",
   "execution_count": 1,
   "id": "d10e52ee",
   "metadata": {},
   "outputs": [],
   "source": [
    "import pandas as pd\n",
    "\n",
    "# Load the CSV file\n",
    "df = pd.read_csv(\"../data/data.csv\")"
   ]
  },
  {
   "cell_type": "code",
   "execution_count": 2,
   "id": "88a33aa3",
   "metadata": {},
   "outputs": [
    {
     "name": "stdout",
     "output_type": "stream",
     "text": [
      "Dataset shape: (159571, 8)\n",
      "<class 'pandas.core.frame.DataFrame'>\n",
      "RangeIndex: 159571 entries, 0 to 159570\n",
      "Data columns (total 8 columns):\n",
      " #   Column         Non-Null Count   Dtype \n",
      "---  ------         --------------   ----- \n",
      " 0   id             159571 non-null  object\n",
      " 1   comment_text   159571 non-null  object\n",
      " 2   toxic          159571 non-null  int64 \n",
      " 3   severe_toxic   159571 non-null  int64 \n",
      " 4   obscene        159571 non-null  int64 \n",
      " 5   threat         159571 non-null  int64 \n",
      " 6   insult         159571 non-null  int64 \n",
      " 7   identity_hate  159571 non-null  int64 \n",
      "dtypes: int64(6), object(2)\n",
      "memory usage: 9.7+ MB\n"
     ]
    }
   ],
   "source": [
    "# Display basic info\n",
    "print(\"Dataset shape:\", df.shape)\n",
    "df.info(verbose=True)"
   ]
  },
  {
   "cell_type": "code",
   "execution_count": 3,
   "id": "ce0dd57d",
   "metadata": {},
   "outputs": [],
   "source": [
    "df[\"toxic\"] = df.iloc[:, 2:8].sum(axis=1) > 0\n",
    "df.drop(df.columns[3:8], axis=1, inplace=True)"
   ]
  },
  {
   "cell_type": "code",
   "execution_count": 4,
   "id": "fc171c0a",
   "metadata": {},
   "outputs": [
    {
     "data": {
      "text/html": [
       "<div>\n",
       "<style scoped>\n",
       "    .dataframe tbody tr th:only-of-type {\n",
       "        vertical-align: middle;\n",
       "    }\n",
       "\n",
       "    .dataframe tbody tr th {\n",
       "        vertical-align: top;\n",
       "    }\n",
       "\n",
       "    .dataframe thead th {\n",
       "        text-align: right;\n",
       "    }\n",
       "</style>\n",
       "<table border=\"1\" class=\"dataframe\">\n",
       "  <thead>\n",
       "    <tr style=\"text-align: right;\">\n",
       "      <th></th>\n",
       "      <th>id</th>\n",
       "      <th>comment_text</th>\n",
       "      <th>toxic</th>\n",
       "    </tr>\n",
       "  </thead>\n",
       "  <tbody>\n",
       "    <tr>\n",
       "      <th>0</th>\n",
       "      <td>0000997932d777bf</td>\n",
       "      <td>Explanation\\nWhy the edits made under my usern...</td>\n",
       "      <td>False</td>\n",
       "    </tr>\n",
       "    <tr>\n",
       "      <th>1</th>\n",
       "      <td>000103f0d9cfb60f</td>\n",
       "      <td>D'aww! He matches this background colour I'm s...</td>\n",
       "      <td>False</td>\n",
       "    </tr>\n",
       "    <tr>\n",
       "      <th>2</th>\n",
       "      <td>000113f07ec002fd</td>\n",
       "      <td>Hey man, I'm really not trying to edit war. It...</td>\n",
       "      <td>False</td>\n",
       "    </tr>\n",
       "    <tr>\n",
       "      <th>3</th>\n",
       "      <td>0001b41b1c6bb37e</td>\n",
       "      <td>\"\\nMore\\nI can't make any real suggestions on ...</td>\n",
       "      <td>False</td>\n",
       "    </tr>\n",
       "    <tr>\n",
       "      <th>4</th>\n",
       "      <td>0001d958c54c6e35</td>\n",
       "      <td>You, sir, are my hero. Any chance you remember...</td>\n",
       "      <td>False</td>\n",
       "    </tr>\n",
       "    <tr>\n",
       "      <th>5</th>\n",
       "      <td>00025465d4725e87</td>\n",
       "      <td>\"\\n\\nCongratulations from me as well, use the ...</td>\n",
       "      <td>False</td>\n",
       "    </tr>\n",
       "    <tr>\n",
       "      <th>6</th>\n",
       "      <td>0002bcb3da6cb337</td>\n",
       "      <td>COCKSUCKER BEFORE YOU PISS AROUND ON MY WORK</td>\n",
       "      <td>True</td>\n",
       "    </tr>\n",
       "    <tr>\n",
       "      <th>7</th>\n",
       "      <td>00031b1e95af7921</td>\n",
       "      <td>Your vandalism to the Matt Shirvington article...</td>\n",
       "      <td>False</td>\n",
       "    </tr>\n",
       "    <tr>\n",
       "      <th>8</th>\n",
       "      <td>00037261f536c51d</td>\n",
       "      <td>Sorry if the word 'nonsense' was offensive to ...</td>\n",
       "      <td>False</td>\n",
       "    </tr>\n",
       "    <tr>\n",
       "      <th>9</th>\n",
       "      <td>00040093b2687caa</td>\n",
       "      <td>alignment on this subject and which are contra...</td>\n",
       "      <td>False</td>\n",
       "    </tr>\n",
       "  </tbody>\n",
       "</table>\n",
       "</div>"
      ],
      "text/plain": [
       "                 id                                       comment_text  toxic\n",
       "0  0000997932d777bf  Explanation\\nWhy the edits made under my usern...  False\n",
       "1  000103f0d9cfb60f  D'aww! He matches this background colour I'm s...  False\n",
       "2  000113f07ec002fd  Hey man, I'm really not trying to edit war. It...  False\n",
       "3  0001b41b1c6bb37e  \"\\nMore\\nI can't make any real suggestions on ...  False\n",
       "4  0001d958c54c6e35  You, sir, are my hero. Any chance you remember...  False\n",
       "5  00025465d4725e87  \"\\n\\nCongratulations from me as well, use the ...  False\n",
       "6  0002bcb3da6cb337       COCKSUCKER BEFORE YOU PISS AROUND ON MY WORK   True\n",
       "7  00031b1e95af7921  Your vandalism to the Matt Shirvington article...  False\n",
       "8  00037261f536c51d  Sorry if the word 'nonsense' was offensive to ...  False\n",
       "9  00040093b2687caa  alignment on this subject and which are contra...  False"
      ]
     },
     "execution_count": 4,
     "metadata": {},
     "output_type": "execute_result"
    }
   ],
   "source": [
    "df.head(10)"
   ]
  },
  {
   "cell_type": "code",
   "execution_count": 5,
   "id": "addca41d",
   "metadata": {},
   "outputs": [],
   "source": [
    "import re\n",
    "\n",
    "def clean_text(text):\n",
    "    text = text.lower()                              # 1. Lowercase\n",
    "    text = re.sub(r'[^a-z\\s]', '', text)             # 2. Keep only letters and spaces\n",
    "    text = re.sub(r'\\s+', ' ', text).strip()         # 3. Remove extra spaces\n",
    "    return text\n",
    "df['comment_text'] = df['comment_text'].apply(clean_text)\n",
    "df = df[df['comment_text'].str.strip() != '']"
   ]
  },
  {
   "cell_type": "code",
   "execution_count": 6,
   "id": "278960ba",
   "metadata": {},
   "outputs": [],
   "source": [
    "def split_long_comments(df, max_len=1000, min_len_if_toxic=30):\n",
    "    new_rows = []\n",
    "\n",
    "    for idx, row in df.iterrows():\n",
    "        text = row['comment_text']\n",
    "        label = row['toxic']  # True or False\n",
    "\n",
    "        if len(text) <= max_len:\n",
    "            new_rows.append({'comment_text': text, 'toxic': label})\n",
    "        else:\n",
    "            for i in range(0, len(text), max_len):\n",
    "                chunk = text[i:i + max_len]\n",
    "\n",
    "                # ✅ Skip tiny chunks *only* if the original comment was toxic\n",
    "                if label and len(chunk) < min_len_if_toxic:\n",
    "                    continue\n",
    "\n",
    "                new_rows.append({'comment_text': chunk, 'toxic': label})\n",
    "\n",
    "    return pd.DataFrame(new_rows)"
   ]
  },
  {
   "cell_type": "code",
   "execution_count": 7,
   "id": "cd708c6a",
   "metadata": {},
   "outputs": [
    {
     "name": "stdout",
     "output_type": "stream",
     "text": [
      "Number of comments longer than 1000 characters: 12141\n"
     ]
    }
   ],
   "source": [
    "long_comments = df['comment_text'].apply(len) > 1000\n",
    "count = long_comments.sum()\n",
    "print(\"Number of comments longer than 1000 characters:\", count)\n",
    "df = split_long_comments(df)\n",
    "df = df.sample(frac=1, random_state=42).reset_index(drop=True)"
   ]
  },
  {
   "cell_type": "code",
   "execution_count": 8,
   "id": "0158da8f",
   "metadata": {},
   "outputs": [
    {
     "data": {
      "text/plain": [
       "(177960, 2)"
      ]
     },
     "execution_count": 8,
     "metadata": {},
     "output_type": "execute_result"
    }
   ],
   "source": [
    "df.shape"
   ]
  },
  {
   "cell_type": "code",
   "execution_count": 9,
   "id": "656d07a2",
   "metadata": {},
   "outputs": [
    {
     "data": {
      "text/html": [
       "<div>\n",
       "<style scoped>\n",
       "    .dataframe tbody tr th:only-of-type {\n",
       "        vertical-align: middle;\n",
       "    }\n",
       "\n",
       "    .dataframe tbody tr th {\n",
       "        vertical-align: top;\n",
       "    }\n",
       "\n",
       "    .dataframe thead th {\n",
       "        text-align: right;\n",
       "    }\n",
       "</style>\n",
       "<table border=\"1\" class=\"dataframe\">\n",
       "  <thead>\n",
       "    <tr style=\"text-align: right;\">\n",
       "      <th></th>\n",
       "      <th>comment_text</th>\n",
       "      <th>toxic</th>\n",
       "    </tr>\n",
       "  </thead>\n",
       "  <tbody>\n",
       "    <tr>\n",
       "      <th>0</th>\n",
       "      <td>this list serves no purpose other than to prov...</td>\n",
       "      <td>False</td>\n",
       "    </tr>\n",
       "    <tr>\n",
       "      <th>1</th>\n",
       "      <td>stalin could never have been impersonated thro...</td>\n",
       "      <td>False</td>\n",
       "    </tr>\n",
       "    <tr>\n",
       "      <th>2</th>\n",
       "      <td>usernawlinwiki is gay that person is gay they ...</td>\n",
       "      <td>True</td>\n",
       "    </tr>\n",
       "    <tr>\n",
       "      <th>3</th>\n",
       "      <td>fredomopenneslicenses is it free software what...</td>\n",
       "      <td>False</td>\n",
       "    </tr>\n",
       "    <tr>\n",
       "      <th>4</th>\n",
       "      <td>reverting for no reason i spent quite some tim...</td>\n",
       "      <td>True</td>\n",
       "    </tr>\n",
       "    <tr>\n",
       "      <th>5</th>\n",
       "      <td>image jpg listed for deletion an image or medi...</td>\n",
       "      <td>False</td>\n",
       "    </tr>\n",
       "    <tr>\n",
       "      <th>6</th>\n",
       "      <td>well the events of february invalidate your st...</td>\n",
       "      <td>False</td>\n",
       "    </tr>\n",
       "    <tr>\n",
       "      <th>7</th>\n",
       "      <td>sorry you are way wrong on this one here is th...</td>\n",
       "      <td>False</td>\n",
       "    </tr>\n",
       "    <tr>\n",
       "      <th>8</th>\n",
       "      <td>fanfictionnets policy change and the effect of...</td>\n",
       "      <td>False</td>\n",
       "    </tr>\n",
       "    <tr>\n",
       "      <th>9</th>\n",
       "      <td>citation templates trying to add citation temp...</td>\n",
       "      <td>False</td>\n",
       "    </tr>\n",
       "  </tbody>\n",
       "</table>\n",
       "</div>"
      ],
      "text/plain": [
       "                                        comment_text  toxic\n",
       "0  this list serves no purpose other than to prov...  False\n",
       "1  stalin could never have been impersonated thro...  False\n",
       "2  usernawlinwiki is gay that person is gay they ...   True\n",
       "3  fredomopenneslicenses is it free software what...  False\n",
       "4  reverting for no reason i spent quite some tim...   True\n",
       "5  image jpg listed for deletion an image or medi...  False\n",
       "6  well the events of february invalidate your st...  False\n",
       "7  sorry you are way wrong on this one here is th...  False\n",
       "8  fanfictionnets policy change and the effect of...  False\n",
       "9  citation templates trying to add citation temp...  False"
      ]
     },
     "execution_count": 9,
     "metadata": {},
     "output_type": "execute_result"
    }
   ],
   "source": [
    "df.head(10)"
   ]
  },
  {
   "cell_type": "code",
   "execution_count": 10,
   "id": "a8448a4f",
   "metadata": {},
   "outputs": [
    {
     "data": {
      "text/plain": [
       "comment_text    0\n",
       "toxic           0\n",
       "dtype: int64"
      ]
     },
     "execution_count": 10,
     "metadata": {},
     "output_type": "execute_result"
    }
   ],
   "source": [
    "df.isnull().sum()"
   ]
  },
  {
   "cell_type": "code",
   "execution_count": 11,
   "id": "5ea48d22",
   "metadata": {},
   "outputs": [
    {
     "name": "stdout",
     "output_type": "stream",
     "text": [
      "Toxic:  9.93 %\n"
     ]
    }
   ],
   "source": [
    "toxic_counts = df[\"toxic\"].value_counts()\n",
    "print(\"Toxic: \", round(toxic_counts[True]/df.shape[0]*100, 2), \"%\")"
   ]
  },
  {
   "cell_type": "code",
   "execution_count": 12,
   "id": "57aaa22d",
   "metadata": {},
   "outputs": [
    {
     "data": {
      "image/png": "[encoded data removed]",
      "text/plain": [
       "<Figure size 1200x400 with 1 Axes>"
      ]
     },
     "metadata": {},
     "output_type": "display_data"
    }
   ],
   "source": [
    "import matplotlib.pyplot as plt\n",
    "\n",
    "# Compute rolling average\n",
    "window_size = 1000  # try 500 or 1000\n",
    "rolling_avg = df[\"toxic\"].rolling(window=window_size).mean()\n",
    "\n",
    "# Plot\n",
    "plt.figure(figsize=(12, 4))\n",
    "plt.plot(rolling_avg, color='red')\n",
    "plt.title(f\"Toxicity Rolling Average (window={window_size})\")\n",
    "plt.xlabel(\"Comment Index\")\n",
    "plt.ylabel(\"Toxicity Rate\")\n",
    "plt.grid(True, linestyle='--', alpha=0.5)\n",
    "plt.tight_layout()\n",
    "plt.show()\n"
   ]
  },
  {
   "cell_type": "code",
   "execution_count": 13,
   "id": "15a896a6",
   "metadata": {},
   "outputs": [
    {
     "name": "stdout",
     "output_type": "stream",
     "text": [
      "Average gap between toxic comments: 10.066542182991004\n",
      "Min gap: 1\n",
      "Max gap: 99\n"
     ]
    }
   ],
   "source": [
    "# Get indices of toxic comments\n",
    "toxic_indices = df.index[df[\"toxic\"]==1].to_list()\n",
    "\n",
    "# Calculate distances between toxic comments\n",
    "gaps = [j - i for i, j in zip(toxic_indices[:-1], toxic_indices[1:])]\n",
    "\n",
    "# Analyze gaps\n",
    "import numpy as np\n",
    "print(\"Average gap between toxic comments:\", np.mean(gaps))\n",
    "print(\"Min gap:\", np.min(gaps))\n",
    "print(\"Max gap:\", np.max(gaps))"
   ]
  },
  {
   "cell_type": "code",
   "execution_count": 14,
   "id": "768f4d18",
   "metadata": {},
   "outputs": [
    {
     "name": "stdout",
     "output_type": "stream",
     "text": [
      "Duplicate comments: 1974\n"
     ]
    }
   ],
   "source": [
    "print(\"Duplicate comments:\", df.duplicated(\"comment_text\").sum())"
   ]
  },
  {
   "cell_type": "code",
   "execution_count": 15,
   "id": "32c25870",
   "metadata": {},
   "outputs": [
    {
     "name": "stdout",
     "output_type": "stream",
     "text": [
      "Duplicate comments: 42\n"
     ]
    }
   ],
   "source": [
    "df = df.drop_duplicates(subset=[\"comment_text\", \"toxic\"]).reset_index(drop=True)\n",
    "print(\"Duplicate comments:\", df.duplicated(\"comment_text\").sum())"
   ]
  },
  {
   "cell_type": "code",
   "execution_count": 16,
   "id": "e0d947af",
   "metadata": {},
   "outputs": [
    {
     "data": {
      "text/html": [
       "<div>\n",
       "<style scoped>\n",
       "    .dataframe tbody tr th:only-of-type {\n",
       "        vertical-align: middle;\n",
       "    }\n",
       "\n",
       "    .dataframe tbody tr th {\n",
       "        vertical-align: top;\n",
       "    }\n",
       "\n",
       "    .dataframe thead th {\n",
       "        text-align: right;\n",
       "    }\n",
       "</style>\n",
       "<table border=\"1\" class=\"dataframe\">\n",
       "  <thead>\n",
       "    <tr style=\"text-align: right;\">\n",
       "      <th></th>\n",
       "      <th>comment_text</th>\n",
       "      <th>toxic</th>\n",
       "    </tr>\n",
       "  </thead>\n",
       "  <tbody>\n",
       "    <tr>\n",
       "      <th>0</th>\n",
       "      <td>this list serves no purpose other than to prov...</td>\n",
       "      <td>False</td>\n",
       "    </tr>\n",
       "    <tr>\n",
       "      <th>1</th>\n",
       "      <td>stalin could never have been impersonated thro...</td>\n",
       "      <td>False</td>\n",
       "    </tr>\n",
       "    <tr>\n",
       "      <th>2</th>\n",
       "      <td>usernawlinwiki is gay that person is gay they ...</td>\n",
       "      <td>True</td>\n",
       "    </tr>\n",
       "    <tr>\n",
       "      <th>3</th>\n",
       "      <td>fredomopenneslicenses is it free software what...</td>\n",
       "      <td>False</td>\n",
       "    </tr>\n",
       "    <tr>\n",
       "      <th>4</th>\n",
       "      <td>reverting for no reason i spent quite some tim...</td>\n",
       "      <td>True</td>\n",
       "    </tr>\n",
       "  </tbody>\n",
       "</table>\n",
       "</div>"
      ],
      "text/plain": [
       "                                        comment_text  toxic\n",
       "0  this list serves no purpose other than to prov...  False\n",
       "1  stalin could never have been impersonated thro...  False\n",
       "2  usernawlinwiki is gay that person is gay they ...   True\n",
       "3  fredomopenneslicenses is it free software what...  False\n",
       "4  reverting for no reason i spent quite some tim...   True"
      ]
     },
     "execution_count": 16,
     "metadata": {},
     "output_type": "execute_result"
    }
   ],
   "source": [
    "df.head(5)"
   ]
  },
  {
   "cell_type": "code",
   "execution_count": 17,
   "id": "8d373cac",
   "metadata": {},
   "outputs": [],
   "source": [
    "from sklearn.model_selection import train_test_split\n",
    "\n",
    "# Step 1: train + temp (val + test)\n",
    "train_df, temp_df = train_test_split(\n",
    "    df, \n",
    "    test_size=0.3, \n",
    "    stratify=df['toxic'], \n",
    "    random_state=42\n",
    ")\n",
    "\n",
    "# Step 2: val + test from temp\n",
    "val_df, test_df = train_test_split(\n",
    "    temp_df, \n",
    "    test_size=0.5, \n",
    "    stratify=temp_df['toxic'], \n",
    "    random_state=42\n",
    ")\n"
   ]
  },
  {
   "cell_type": "code",
   "execution_count": 18,
   "id": "78d2bc3a",
   "metadata": {},
   "outputs": [
    {
     "name": "stdout",
     "output_type": "stream",
     "text": [
      "toxic\n",
      "False    111050\n",
      "True      12169\n",
      "Name: count, dtype: int64\n",
      "toxic\n",
      "False    23796\n",
      "True      2608\n",
      "Name: count, dtype: int64\n",
      "toxic\n",
      "False    23797\n",
      "True      2608\n",
      "Name: count, dtype: int64\n"
     ]
    }
   ],
   "source": [
    "print(train_df[\"toxic\"].value_counts())\n",
    "print(val_df[\"toxic\"].value_counts())\n",
    "print(test_df[\"toxic\"].value_counts())"
   ]
  },
  {
   "cell_type": "code",
   "execution_count": 19,
   "id": "a2b1f87c",
   "metadata": {},
   "outputs": [],
   "source": [
    "train_df.to_csv(\"../data/train.csv\", index=False)\n",
    "val_df.to_csv(\"../data/val.csv\", index=False)\n",
    "test_df.to_csv(\"../data/test.csv\", index=False)"
   ]
  }
 ],
 "metadata": {
  "kernelspec": {
   "display_name": "venv",
   "language": "python",
   "name": "python3"
  },
  "language_info": {
   "codemirror_mode": {
    "name": "ipython",
    "version": 3
   },
   "file_extension": ".py",
   "mimetype": "text/x-python",
   "name": "python",
   "nbconvert_exporter": "python",
   "pygments_lexer": "ipython3",
   "version": "3.11.0"
  }
 },
 "nbformat": 4,
 "nbformat_minor": 5
}
